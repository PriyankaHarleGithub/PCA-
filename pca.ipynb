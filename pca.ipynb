{
 "cells": [
  {
   "cell_type": "code",
   "execution_count": 7,
   "id": "da2b9515",
   "metadata": {},
   "outputs": [],
   "source": [
    "# USE PCA WHEN THERE IS LARGE DATA LIKE 1000 ROWS AND 1000 COLUMS \n",
    "# import iris dataset\n",
    "from sklearn import datasets\n",
    "iris = datasets.load_iris()\n",
    "# Define features and targets\n",
    "X = iris.data\n",
    "y = iris.target"
   ]
  },
  {
   "cell_type": "code",
   "execution_count": 8,
   "id": "09fa2b76",
   "metadata": {},
   "outputs": [],
   "source": [
    "# train test split\n",
    "from sklearn.model_selection import train_test_split\n",
    "X_train , X_test, y_train, y_test = train_test_split(X , y , test_size = 0.25 , random_state = 21)"
   ]
  },
  {
   "cell_type": "code",
   "execution_count": 9,
   "id": "1a8c55d4",
   "metadata": {},
   "outputs": [],
   "source": [
    "# scale the data. calculate Z-score\n",
    "from sklearn.preprocessing import StandardScaler\n",
    "sc = StandardScaler()\n",
    "X_train = sc.fit_transform(X_train)\n",
    "X_test = sc.transform(X_test)"
   ]
  },
  {
   "cell_type": "code",
   "execution_count": 10,
   "id": "f71b4c36",
   "metadata": {},
   "outputs": [],
   "source": [
    "# import PCA \n",
    "from sklearn.decomposition import PCA\n",
    "pca = PCA()"
   ]
  },
  {
   "cell_type": "code",
   "execution_count": 11,
   "id": "92fac38c",
   "metadata": {},
   "outputs": [],
   "source": [
    "X_train_pca = pca.fit_transform(X_train)\n",
    "X_test_pca = pca.transform(X_test)"
   ]
  },
  {
   "cell_type": "code",
   "execution_count": 12,
   "id": "66c8851d",
   "metadata": {},
   "outputs": [
    {
     "name": "stdout",
     "output_type": "stream",
     "text": [
      "The variance values of the PC components are : \n",
      "------------------------------------------------\n",
      "[0.74530178 0.21476881 0.03491672 0.00501269]\n"
     ]
    }
   ],
   "source": [
    "print(\"The variance values of the PC components are : \")\n",
    "print(\"------------------------------------------------\")\n",
    "print(pca.explained_variance_ratio_)\n",
    "\n"
   ]
  },
  {
   "cell_type": "code",
   "execution_count": 13,
   "id": "26610621",
   "metadata": {},
   "outputs": [],
   "source": [
    "# to select just 2 principal components for building the ML model\n",
    "pca2 = PCA(n_components =2)\n",
    "X_train_pca2 = pca2.fit_transform(X_train)\n",
    "X_test_pca2 = pca2.transform(X_test)\n",
    "\n"
   ]
  },
  {
   "cell_type": "code",
   "execution_count": 14,
   "id": "969d42cf",
   "metadata": {},
   "outputs": [
    {
     "data": {
      "text/plain": [
       "array([0.74530178, 0.21476881])"
      ]
     },
     "execution_count": 14,
     "metadata": {},
     "output_type": "execute_result"
    }
   ],
   "source": [
    "pca2.explained_variance_ratio_"
   ]
  },
  {
   "cell_type": "code",
   "execution_count": 15,
   "id": "d332cc4f",
   "metadata": {},
   "outputs": [
    {
     "data": {
      "text/plain": [
       "array([[ 0.51583436, -0.30437043,  0.57429699,  0.55808289],\n",
       "       [ 0.3949399 ,  0.912775  ,  0.03291943,  0.09889681]])"
      ]
     },
     "execution_count": 15,
     "metadata": {},
     "output_type": "execute_result"
    }
   ],
   "source": [
    "pca2.components_"
   ]
  },
  {
   "cell_type": "code",
   "execution_count": 16,
   "id": "60b4edc8",
   "metadata": {},
   "outputs": [
    {
     "name": "stdout",
     "output_type": "stream",
     "text": [
      "(112, 2)\n",
      "(38, 2)\n"
     ]
    }
   ],
   "source": [
    "print(X_train_pca2.shape)\n",
    "print(X_test_pca2.shape)"
   ]
  },
  {
   "cell_type": "code",
   "execution_count": 17,
   "id": "639be807",
   "metadata": {},
   "outputs": [
    {
     "data": {
      "text/plain": [
       "Text(0, 0.5, 'Second Principal component')"
      ]
     },
     "execution_count": 17,
     "metadata": {},
     "output_type": "execute_result"
    },
    {
     "data": {
      "image/png": "[encoded data removed]",
      "text/plain": [
       "<Figure size 576x432 with 1 Axes>"
      ]
     },
     "metadata": {
      "needs_background": "light"
     },
     "output_type": "display_data"
    }
   ],
   "source": [
    "import matplotlib.pyplot as plt\n",
    "plt.figure(figsize=(8,6))\n",
    "plt.scatter(X_train_pca2[:,0],X_train_pca2[:,1], c = y_train , cmap ='rainbow')\n",
    "plt.xlabel('First Principal component')\n",
    "plt.ylabel('Second Principal component')"
   ]
  },
  {
   "cell_type": "code",
   "execution_count": 18,
   "id": "bcb5c05e",
   "metadata": {},
   "outputs": [
    {
     "data": {
      "text/plain": [
       "KNeighborsClassifier()"
      ]
     },
     "execution_count": 18,
     "metadata": {},
     "output_type": "execute_result"
    }
   ],
   "source": [
    "from sklearn.neighbors import KNeighborsClassifier\n",
    "from sklearn.metrics import accuracy_score\n",
    "knn = KNeighborsClassifier()\n",
    "# Create the model using traiing data\n",
    "knn.fit(X_train_pca2, y_train)"
   ]
  },
  {
   "cell_type": "code",
   "execution_count": 19,
   "id": "4f61c8d4",
   "metadata": {},
   "outputs": [
    {
     "name": "stdout",
     "output_type": "stream",
     "text": [
      "Accuracy of model prediction using 2 principal components is: 0.8421052631578947\n"
     ]
    }
   ],
   "source": [
    "# Use the model to predict the values for test data\n",
    "y_pred_pca2 = knn.predict(X_test_pca2)\n",
    "# calculate the accuracy , y_test - actual values , y_pred_pca2 - predicted values.\n",
    "print(\"Accuracy of model prediction using 2 principal components is:\" \n",
    "      , accuracy_score(y_test,y_pred_pca2))"
   ]
  },
  {
   "cell_type": "code",
   "execution_count": 20,
   "id": "f5b19950",
   "metadata": {},
   "outputs": [
    {
     "data": {
      "text/html": [
       "<div>\n",
       "<style scoped>\n",
       "    .dataframe tbody tr th:only-of-type {\n",
       "        vertical-align: middle;\n",
       "    }\n",
       "\n",
       "    .dataframe tbody tr th {\n",
       "        vertical-align: top;\n",
       "    }\n",
       "\n",
       "    .dataframe thead th {\n",
       "        text-align: right;\n",
       "    }\n",
       "</style>\n",
       "<table border=\"1\" class=\"dataframe\">\n",
       "  <thead>\n",
       "    <tr style=\"text-align: right;\">\n",
       "      <th></th>\n",
       "      <th>0</th>\n",
       "      <th>1</th>\n",
       "    </tr>\n",
       "  </thead>\n",
       "  <tbody>\n",
       "    <tr>\n",
       "      <th>0</th>\n",
       "      <td>1.000000e+00</td>\n",
       "      <td>2.966990e-16</td>\n",
       "    </tr>\n",
       "    <tr>\n",
       "      <th>1</th>\n",
       "      <td>2.966990e-16</td>\n",
       "      <td>1.000000e+00</td>\n",
       "    </tr>\n",
       "  </tbody>\n",
       "</table>\n",
       "</div>"
      ],
      "text/plain": [
       "              0             1\n",
       "0  1.000000e+00  2.966990e-16\n",
       "1  2.966990e-16  1.000000e+00"
      ]
     },
     "execution_count": 20,
     "metadata": {},
     "output_type": "execute_result"
    }
   ],
   "source": [
    "# correlation of principal components\n",
    "import pandas as pd\n",
    "# create a datframe using X_train_pca\n",
    "df_pca2=pd.DataFrame(X_train_pca2)\n",
    "# Correaltion between pca components\n",
    "df_pca2.corr()\n",
    "# very low value od 3.64*10^(-16)"
   ]
  },
  {
   "cell_type": "code",
   "execution_count": 21,
   "id": "cf173606",
   "metadata": {},
   "outputs": [
    {
     "data": {
      "text/plain": [
       "<AxesSubplot:>"
      ]
     },
     "execution_count": 21,
     "metadata": {},
     "output_type": "execute_result"
    },
    {
     "data": {
      "image/png": "[encoded data removed]",
      "text/plain": [
       "<Figure size 432x288 with 2 Axes>"
      ]
     },
     "metadata": {
      "needs_background": "light"
     },
     "output_type": "display_data"
    }
   ],
   "source": [
    "import seaborn as sns\n",
    "sns.heatmap(df_pca2.corr(),annot=True)"
   ]
  },
  {
   "cell_type": "code",
   "execution_count": null,
   "id": "88ec160a",
   "metadata": {},
   "outputs": [],
   "source": []
  }
 ],
 "metadata": {
  "kernelspec": {
   "display_name": "Python 3 (ipykernel)",
   "language": "python",
   "name": "python3"
  },
  "language_info": {
   "codemirror_mode": {
    "name": "ipython",
    "version": 3
   },
   "file_extension": ".py",
   "mimetype": "text/x-python",
   "name": "python",
   "nbconvert_exporter": "python",
   "pygments_lexer": "ipython3",
   "version": "3.9.7"
  }
 },
 "nbformat": 4,
 "nbformat_minor": 5
}
